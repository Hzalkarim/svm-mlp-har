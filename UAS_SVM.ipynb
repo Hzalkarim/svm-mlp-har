{
 "cells": [
  {
   "cell_type": "code",
   "execution_count": null,
   "metadata": {},
   "outputs": [],
   "source": [
    "dir_X_train = 'Train/X_train.txt'\n",
    "dir_y_train = 'Train/y_train.txt'\n",
    "\n",
    "dir_X_test = 'Test/X_test.txt'\n",
    "dir_y_test = 'Test/y_test.txt'"
   ]
  },
  {
   "cell_type": "code",
   "execution_count": null,
   "metadata": {},
   "outputs": [],
   "source": [
    "import numpy\n",
    "\n",
    "features = numpy.loadtxt('features.txt', str)\n",
    "slc_ft = ['tBodyAcc-STD-1', 'tBodyAcc-STD-2', 'tBodyAcc-STD-3', 'tBodyAcc-SMA-1', 'tGravityAcc-Mean-1', 'tGravityAcc-Mean-2', 'tGravityAcc-Mean-3',]\n",
    "\n",
    "n = len(features)\n",
    "slc_ft_idx = []\n",
    "for ft in slc_ft:\n",
    "    i = 0\n",
    "    for j in range(i, n):\n",
    "        if ft == features[j]:\n",
    "            slc_ft_idx.append(j)\n",
    "            i = j + 1\n",
    "            break\n",
    "            \n",
    "print(slc_ft_idx)"
   ]
  },
  {
   "cell_type": "code",
   "execution_count": null,
   "metadata": {},
   "outputs": [],
   "source": [
    "X_train = numpy.loadtxt(dir_X_train, usecols=slc_ft_idx)\n",
    "y_train = numpy.loadtxt(dir_y_train)\n",
    "\n",
    "X_test = numpy.loadtxt(dir_X_test, usecols=slc_ft_idx)\n",
    "y_test = numpy.loadtxt(dir_y_test)"
   ]
  },
  {
   "cell_type": "code",
   "execution_count": null,
   "metadata": {},
   "outputs": [],
   "source": [
    "print(len(y_test))"
   ]
  },
  {
   "cell_type": "code",
   "execution_count": null,
   "metadata": {},
   "outputs": [],
   "source": [
    "print(len(y_train))\n",
    "print(len(y_test))\n",
    "print(len(X_train[0]))"
   ]
  },
  {
   "cell_type": "code",
   "execution_count": null,
   "metadata": {},
   "outputs": [],
   "source": [
    "labels = numpy.loadtxt('activity_labels.txt', str)\n",
    "#print(labels)"
   ]
  },
  {
   "cell_type": "code",
   "execution_count": null,
   "metadata": {},
   "outputs": [],
   "source": [
    "activity_labels = [i[1] for i in labels]\n",
    "#print(activity_labels)"
   ]
  },
  {
   "cell_type": "code",
   "execution_count": null,
   "metadata": {},
   "outputs": [],
   "source": [
    "transition_labels = [activity_labels[i] for i in range(len(activity_labels)) if i >= 6]\n",
    "walking_labels = [activity_labels[i] for i in range(len(activity_labels)) if i < 3]\n",
    "\n",
    "summary_labels = [[walking_labels, 'WALKING'], 'SITTING', 'STANDING', 'LAYING', [transition_labels, 'TRANSITION']]"
   ]
  },
  {
   "cell_type": "code",
   "execution_count": null,
   "metadata": {},
   "outputs": [],
   "source": [
    "from sklearn.svm import SVC\n",
    "from sklearn import metrics\n",
    "\n",
    "def fit_model(kernel, degree):\n",
    "    model = SVC(C=1.0, kernel=kernel, degree=degree, gamma='scale')\n",
    "    model.fit(X_train, y_train)\n",
    "\n",
    "    expected = y_test\n",
    "    predicted = model.predict(X_test)\n",
    "    \n",
    "    report = metrics.classification_report(expected, predicted, target_names=activity_labels)\n",
    "    report_dict = metrics.classification_report(expected, predicted, target_names=activity_labels, output_dict=True)\n",
    "    conf_matrix = metrics.confusion_matrix(expected, predicted)\n",
    "    \n",
    "    return [report, report_dict, conf_matrix]"
   ]
  },
  {
   "cell_type": "code",
   "execution_count": null,
   "metadata": {},
   "outputs": [],
   "source": [
    "def label_avg(label, row_name, report_dict):\n",
    "    if isinstance(label, str):\n",
    "        return report_dict[label][row_name]\n",
    "    \n",
    "    sumPrec = 0\n",
    "    for l in label:\n",
    "        sumPrec += report_dict[l][row_name]\n",
    "\n",
    "    row = sumPrec / len(label)\n",
    "    return row"
   ]
  },
  {
   "cell_type": "code",
   "execution_count": null,
   "metadata": {},
   "outputs": [],
   "source": [
    "def print_summary(summary, row_name, report_dict):\n",
    "    for c in summary:\n",
    "        if isinstance(c, list):\n",
    "            v = label_avg(c[0], row_name, report_dict)\n",
    "            print(c[1], '-->', '{:.3f}%'.format(v * 100))\n",
    "        else:\n",
    "            v = label_avg(c, row_name, report_dict)\n",
    "            print(c, '-->', '{:.3f}%'.format(v * 100))"
   ]
  },
  {
   "cell_type": "code",
   "execution_count": null,
   "metadata": {},
   "outputs": [],
   "source": [
    "test_config = [(kernel, degree) for kernel in ['linear', 'poly', 'rbf', 'sigmoid'] for degree in range(1,5)]\n",
    "print(test_config)"
   ]
  },
  {
   "cell_type": "code",
   "execution_count": null,
   "metadata": {},
   "outputs": [],
   "source": [
    "test_config_2 = [('poly', degree) for degree in range(1,11)]\n",
    "print(test_config_2)"
   ]
  },
  {
   "cell_type": "code",
   "execution_count": null,
   "metadata": {
    "scrolled": false
   },
   "outputs": [],
   "source": [
    "for kernel, degree in test_config:\n",
    "    report, report_dict, conf_mat = fit_model(kernel, degree)\n",
    "    print(kernel.upper(), degree)\n",
    "    print_summary(summary_labels, 'precision', report_dict)\n",
    "    print('-' * 30)"
   ]
  },
  {
   "cell_type": "code",
   "execution_count": null,
   "metadata": {},
   "outputs": [],
   "source": [
    "for kernel, degree in test_config_2:\n",
    "    report, report_dict, conf_mat = fit_model(kernel, degree)\n",
    "    print(kernel.upper(), degree)\n",
    "    print_summary(summary_labels, 'precision', report_dict)\n",
    "    print('-' * 30)"
   ]
  }
 ],
 "metadata": {
  "kernelspec": {
   "display_name": "Python 3",
   "language": "python",
   "name": "python3"
  },
  "language_info": {
   "codemirror_mode": {
    "name": "ipython",
    "version": 3
   },
   "file_extension": ".py",
   "mimetype": "text/x-python",
   "name": "python",
   "nbconvert_exporter": "python",
   "pygments_lexer": "ipython3",
   "version": "3.7.3"
  }
 },
 "nbformat": 4,
 "nbformat_minor": 2
}
